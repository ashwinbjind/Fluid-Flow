import matplotlib.pyplot as plt

def classify_flow(density, velocity, diameter, viscosity):
    reynolds_number = (density * velocity * diameter) / viscosity

    if reynolds_number < 2000:
        flow_type = "Laminar"
    elif 2000 <= reynolds_number <= 4000:
        flow_type = "Transitional"
    else:
        flow_type = "Turbulent"

    return reynolds_number, flow_type

def plot_flow_region(reynolds_number):
    # Set flow region boundaries
    regions = {
        "Laminar": (0, 2000),
        "Transitional": (2000, 4000),
        "Turbulent": (4000, 10000)
    }

    colors = {
        "Laminar": "green",
        "Transitional": "orange",
        "Turbulent": "red"
    }

    # Create bar plot to show regions
    fig, ax = plt.subplots(figsize=(10, 2))

    for region, (start, end) in regions.items():
        ax.barh(0, end - start, left=start, height=0.5, color=colors[region], label=region)

    # Mark the Reynolds number on the bar
    ax.axvline(reynolds_number, color='blue', linestyle='--', linewidth=2)
    ax.text(reynolds_number + 100, 0.1, f"Re = {reynolds_number:.0f}", color='blue')

    ax.set_xlim(0, 10000)
    ax.set_ylim(-0.5, 1)
    ax.set_yticks([])
    ax.set_title("Fluid Flow Classification by Reynolds Number")
    ax.legend(loc='upper right')
    plt.tight_layout()
    plt.show()

def main():
    print("=== Fluid Flow Classification with Visualization ===")
    
    try:
        density = float(input("Enter fluid density (kg/m³): "))
        velocity = float(input("Enter flow velocity (m/s): "))
        diameter = float(input("Enter pipe diameter (m): "))
        viscosity = float(input("Enter dynamic viscosity (Pa·s): "))

        re, flow = classify_flow(density, velocity, diameter, viscosity)

        print(f"\nReynolds Number: {re:.2f}")
        print(f"Flow Type: {flow}")

        plot_flow_region(re)

    except ValueError:
        print("Please enter valid numeric values.")

if __name__ == "__main__":
    main()
